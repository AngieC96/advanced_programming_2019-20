{
 "cells": [
  {
   "cell_type": "markdown",
   "metadata": {},
   "source": [
    "###  functions are first-class objects\n",
    "First-class object is a program entity that can be:\n",
    "- created at runtime\n",
    "- assigned to a variable or element in a data structure\n",
    "- passed as an argument to a function\n",
    "- returned as the result of a function\n",
    "\n",
    "In Python everything is an object, so function as well"
   ]
  },
  {
   "cell_type": "code",
   "execution_count": 1,
   "metadata": {},
   "outputs": [
    {
     "name": "stdout",
     "output_type": "stream",
     "text": [
      "<class 'function'>\n",
      "hello\n"
     ]
    }
   ],
   "source": [
    "def hello():\n",
    "    print(\"hello\")\n",
    "    \n",
    "print(type(hello))\n",
    "\n",
    "a = hello\n",
    "a()"
   ]
  },
  {
   "cell_type": "markdown",
   "metadata": {},
   "source": [
    "### Module this"
   ]
  },
  {
   "cell_type": "markdown",
   "metadata": {},
   "source": [
    "$ python3\n",
    "Python 3.6.9 (default, Nov  7 2019, 10:44:02) \n",
    "[GCC 8.3.0] on linux\n",
    "Type \"help\", \"copyright\", \"credits\" or \"license\" for more information.\n",
    ">>> import this\n",
    "The Zen of Python, by Tim Peters\n",
    "\n",
    "Beautiful is better than ugly.\n",
    "Explicit is better than implicit.\n",
    "Simple is better than complex.\n",
    "Complex is better than complicated.\n",
    "Flat is better than nested.\n",
    "Sparse is better than dense.\n",
    "Readability counts.\n",
    "Special cases aren't special enough to break the rules.\n",
    "Although practicality beats purity.\n",
    "Errors should never pass silently.\n",
    "Unless explicitly silenced.\n",
    "In the face of ambiguity, refuse the temptation to guess.\n",
    "There should be one-- and preferably only one --obvious way to do it.\n",
    "Although that way may not be obvious at first unless you're Dutch.\n",
    "Now is better than never.\n",
    "Although never is often better than *right* now.\n",
    "If the implementation is hard to explain, it's a bad idea.\n",
    "If the implementation is easy to explain, it may be a good idea.\n",
    "Namespaces are one honking great idea -- let's do more of those!\n"
   ]
  },
  {
   "cell_type": "markdown",
   "metadata": {},
   "source": [
    "### functions can use recursion"
   ]
  },
  {
   "cell_type": "code",
   "execution_count": 2,
   "metadata": {},
   "outputs": [
    {
     "data": {
      "text/plain": [
       "145183092028285869634070784086308284983740379224208358846781574688061991349156420080065207861248000000000000000000"
      ]
     },
     "execution_count": 2,
     "metadata": {},
     "output_type": "execute_result"
    }
   ],
   "source": [
    "def factorial(n):\n",
    "    return 1 if n<2 else n * factorial(n-1) # readability counts!\n",
    "\n",
    "factorial(77)"
   ]
  },
  {
   "cell_type": "markdown",
   "metadata": {},
   "source": [
    "### args name in functions can be used as `keyword`"
   ]
  },
  {
   "cell_type": "code",
   "execution_count": 3,
   "metadata": {},
   "outputs": [
    {
     "name": "stdout",
     "output_type": "stream",
     "text": [
      "a got to_a\n",
      "b got to_b\n",
      "c got to_c\n"
     ]
    }
   ],
   "source": [
    "def abc(a,b,c):\n",
    "    for i in ('a','b','c'):\n",
    "        print(i,\"got\",eval(i))\n",
    "\n",
    "abc('to_a', 'to_b', 'to_c') # positional arguments"
   ]
  },
  {
   "cell_type": "code",
   "execution_count": 5,
   "metadata": {},
   "outputs": [
    {
     "name": "stdout",
     "output_type": "stream",
     "text": [
      "a got to_c\n",
      "b got to_a\n",
      "c got to_b\n"
     ]
    }
   ],
   "source": [
    "abc('to_c', 'to_a', 'to_b')"
   ]
  },
  {
   "cell_type": "code",
   "execution_count": 4,
   "metadata": {},
   "outputs": [
    {
     "name": "stdout",
     "output_type": "stream",
     "text": [
      "a got to_a\n",
      "b got to_b\n",
      "c got to_c\n"
     ]
    }
   ],
   "source": [
    "abc(b = 'to_b', c = 'to_c', a = 'to_a')"
   ]
  },
  {
   "cell_type": "markdown",
   "metadata": {},
   "source": [
    "###  if you want keyord-only arguments, put a `*` in the signature"
   ]
  },
  {
   "cell_type": "code",
   "execution_count": 6,
   "metadata": {},
   "outputs": [
    {
     "name": "stdout",
     "output_type": "stream",
     "text": [
      "a got to_a\n",
      "b got to_b\n",
      "c got to_c\n"
     ]
    }
   ],
   "source": [
    "def abc_keyword_only(*,a,b,c):\n",
    "    for i in ('a','b','c'):\n",
    "        print(i,\"got\",eval(i))\n",
    "\n",
    "#abc_keyword_only('to_a', 'to_b', 'to_c') # error\n",
    "abc_keyword_only(b = 'to_b', c = 'to_c', a = 'to_a') # ONLY KEYWORDS!!!!"
   ]
  },
  {
   "cell_type": "markdown",
   "metadata": {},
   "source": [
    "### default values"
   ]
  },
  {
   "cell_type": "code",
   "execution_count": 7,
   "metadata": {},
   "outputs": [
    {
     "name": "stdout",
     "output_type": "stream",
     "text": [
      "a got default_a\n",
      "b got to_b\n",
      "c got default_c\n"
     ]
    }
   ],
   "source": [
    "def abc_with_default(a='default_a',\n",
    "                     b='default_b',\n",
    "                     c='default_c'):\n",
    "    abc(a,b,c)\n",
    "    \n",
    "abc_with_default(b = 'to_b')"
   ]
  },
  {
   "cell_type": "markdown",
   "metadata": {},
   "source": [
    "### documentation"
   ]
  },
  {
   "cell_type": "code",
   "execution_count": 10,
   "metadata": {},
   "outputs": [
    {
     "ename": "SyntaxError",
     "evalue": "unexpected EOF while parsing (<ipython-input-10-8f0219ea7f43>, line 2)",
     "output_type": "error",
     "traceback": [
      "\u001b[0;36m  File \u001b[0;32m\"<ipython-input-10-8f0219ea7f43>\"\u001b[0;36m, line \u001b[0;32m2\u001b[0m\n\u001b[0;31m    def foo():\u001b[0m\n\u001b[0m              ^\u001b[0m\n\u001b[0;31mSyntaxError\u001b[0m\u001b[0;31m:\u001b[0m unexpected EOF while parsing\n"
     ]
    }
   ],
   "source": [
    "# you cannot have an empty function\n",
    "def foo():"
   ]
  },
  {
   "cell_type": "code",
   "execution_count": 8,
   "metadata": {},
   "outputs": [
    {
     "name": "stdout",
     "output_type": "stream",
     "text": [
      "Help on function foo in module __main__:\n",
      "\n",
      "foo()\n",
      "    string documenting foo(). \n",
      "    accessible via help(foo)\n",
      "\n"
     ]
    }
   ],
   "source": [
    "def foo():\n",
    "    '''\n",
    "    string documenting foo(). \n",
    "    accessible via help(foo)\n",
    "    ''' # indentation is preserved!\n",
    "    pass # empty function: you don't want to / can't implement it, but you want everythin to be consistent\n",
    "\n",
    "help(foo)"
   ]
  },
  {
   "cell_type": "markdown",
   "metadata": {},
   "source": [
    "### function annotations"
   ]
  },
  {
   "cell_type": "markdown",
   "metadata": {},
   "source": [
    "Since variables are sticky notes, they can be whatever! a, b, and c can be whatever \\\n",
    "How to bind them to a type? \\\n",
    "Use function annotation!"
   ]
  },
  {
   "cell_type": "code",
   "execution_count": 11,
   "metadata": {},
   "outputs": [],
   "source": [
    "def complicated_function(text:str, max_len:'int>0'=80) -> str:\n",
    "    '''documentation for complicated_function'''\n",
    "    pass"
   ]
  },
  {
   "cell_type": "code",
   "execution_count": 12,
   "metadata": {},
   "outputs": [
    {
     "name": "stdout",
     "output_type": "stream",
     "text": [
      "Help on function complicated_function in module __main__:\n",
      "\n",
      "complicated_function(text:str, max_len:'int>0'=80) -> str\n",
      "    documentation for complicated_function\n",
      "\n"
     ]
    }
   ],
   "source": [
    "help(complicated_function)"
   ]
  },
  {
   "cell_type": "markdown",
   "metadata": {},
   "source": [
    "###  much more"
   ]
  },
  {
   "cell_type": "code",
   "execution_count": 13,
   "metadata": {},
   "outputs": [
    {
     "name": "stdout",
     "output_type": "stream",
     "text": [
      "__annotations__ is {'text': <class 'str'>, 'max_len': 'int>0', 'return': <class 'str'>}\n",
      "__call__ is <method-wrapper '__call__' of function object at 0x7f9d2d479400>\n",
      "__class__ is <class 'function'>\n",
      "__closure__ is None\n",
      "__code__ is <code object complicated_function at 0x7f9d2d4708a0, file \"<ipython-input-11-ab2ec88ee8c0>\", line 1>\n",
      "__defaults__ is (80,)\n",
      "__delattr__ is <method-wrapper '__delattr__' of function object at 0x7f9d2d479400>\n",
      "__dict__ is {}\n",
      "__dir__ is <built-in method __dir__ of function object at 0x7f9d2d479400>\n",
      "__doc__ is documentation for complicated_function\n",
      "__eq__ is <method-wrapper '__eq__' of function object at 0x7f9d2d479400>\n",
      "__format__ is <built-in method __format__ of function object at 0x7f9d2d479400>\n",
      "__ge__ is <method-wrapper '__ge__' of function object at 0x7f9d2d479400>\n",
      "__get__ is <method-wrapper '__get__' of function object at 0x7f9d2d479400>\n",
      "__getattribute__ is <method-wrapper '__getattribute__' of function object at 0x7f9d2d479400>\n",
      "__globals__ is {'__name__': '__main__', '__doc__': 'Automatically created module for IPython interactive environment', '__package__': None, '__loader__': None, '__spec__': None, '__builtin__': <module 'builtins' (built-in)>, '__builtins__': <module 'builtins' (built-in)>, '_ih': ['', 'def hello():\\n    print(\"hello\")\\n    \\nprint(type(hello))\\n\\na = hello\\na()', 'def factorial(n):\\n    return 1 if n<2 else n * factorial(n-1)\\n\\nfactorial(77)', 'def abc(a,b,c):\\n    for i in (\\'a\\',\\'b\\',\\'c\\'):\\n        print(i,\"got\",eval(i))\\n\\nabc(\\'to_a\\', \\'to_b\\', \\'to_c\\')', \"abc(b = 'to_b', c = 'to_c', a = 'to_a')\", \"abc('to_c', 'to_a', 'to_b')\", 'def abc_keyword_only(*,a,b,c):\\n    for i in (\\'a\\',\\'b\\',\\'c\\'):\\n        print(i,\"got\",eval(i))\\n\\n#abc_keyword_only(\\'to_a\\', \\'to_b\\', \\'to_c\\') # error\\nabc_keyword_only(b = \\'to_b\\', c = \\'to_c\\', a = \\'to_a\\')', \"def abc_with_default(a='default_a',\\n                     b='default_b',\\n                     c='default_c'):\\n    abc(a,b,c)\\n    \\nabc_with_default(b = 'to_b')\", \"def foo():\\n    '''\\n    string documenting foo(). \\n    accessible via help(foo)\\n    '''\\n    pass\\n\\nhelp(foo)\", 'def foo():\\n    # you cannot have an empty function', '# you cannot have an empty function\\ndef foo():', \"def complicated_function(text:str, max_len:'int>0'=80) -> str:\\n    '''documentation for complicated_function'''\\n    pass\", 'help(complicated_function)', \"for i in dir(complicated_function):\\n    print(i,'is',eval('complicated_function.'+i))\"], '_oh': {2: 145183092028285869634070784086308284983740379224208358846781574688061991349156420080065207861248000000000000000000}, '_dh': ['/home/angela/Documenti/Advanced Programming/advanced_programming_2019-20/lectures/python/02_variables_and_functions'], 'In': ['', 'def hello():\\n    print(\"hello\")\\n    \\nprint(type(hello))\\n\\na = hello\\na()', 'def factorial(n):\\n    return 1 if n<2 else n * factorial(n-1)\\n\\nfactorial(77)', 'def abc(a,b,c):\\n    for i in (\\'a\\',\\'b\\',\\'c\\'):\\n        print(i,\"got\",eval(i))\\n\\nabc(\\'to_a\\', \\'to_b\\', \\'to_c\\')', \"abc(b = 'to_b', c = 'to_c', a = 'to_a')\", \"abc('to_c', 'to_a', 'to_b')\", 'def abc_keyword_only(*,a,b,c):\\n    for i in (\\'a\\',\\'b\\',\\'c\\'):\\n        print(i,\"got\",eval(i))\\n\\n#abc_keyword_only(\\'to_a\\', \\'to_b\\', \\'to_c\\') # error\\nabc_keyword_only(b = \\'to_b\\', c = \\'to_c\\', a = \\'to_a\\')', \"def abc_with_default(a='default_a',\\n                     b='default_b',\\n                     c='default_c'):\\n    abc(a,b,c)\\n    \\nabc_with_default(b = 'to_b')\", \"def foo():\\n    '''\\n    string documenting foo(). \\n    accessible via help(foo)\\n    '''\\n    pass\\n\\nhelp(foo)\", 'def foo():\\n    # you cannot have an empty function', '# you cannot have an empty function\\ndef foo():', \"def complicated_function(text:str, max_len:'int>0'=80) -> str:\\n    '''documentation for complicated_function'''\\n    pass\", 'help(complicated_function)', \"for i in dir(complicated_function):\\n    print(i,'is',eval('complicated_function.'+i))\"], 'Out': {2: 145183092028285869634070784086308284983740379224208358846781574688061991349156420080065207861248000000000000000000}, 'get_ipython': <bound method InteractiveShell.get_ipython of <ipykernel.zmqshell.ZMQInteractiveShell object at 0x7f9d31030668>>, 'exit': <IPython.core.autocall.ZMQExitAutocall object at 0x7f9d2dd7ca20>, 'quit': <IPython.core.autocall.ZMQExitAutocall object at 0x7f9d2dd7ca20>, '_': 145183092028285869634070784086308284983740379224208358846781574688061991349156420080065207861248000000000000000000, '__': '', '___': '', '_i': 'help(complicated_function)', '_ii': \"def complicated_function(text:str, max_len:'int>0'=80) -> str:\\n    '''documentation for complicated_function'''\\n    pass\", '_iii': '# you cannot have an empty function\\ndef foo():', '_i1': 'def hello():\\n    print(\"hello\")\\n    \\nprint(type(hello))\\n\\na = hello\\na()', 'hello': <function hello at 0x7f9d2d479840>, 'a': <function hello at 0x7f9d2d479840>, '_i2': 'def factorial(n):\\n    return 1 if n<2 else n * factorial(n-1)\\n\\nfactorial(77)', 'factorial': <function factorial at 0x7f9d2d4798c8>, '_2': 145183092028285869634070784086308284983740379224208358846781574688061991349156420080065207861248000000000000000000, '_i3': 'def abc(a,b,c):\\n    for i in (\\'a\\',\\'b\\',\\'c\\'):\\n        print(i,\"got\",eval(i))\\n\\nabc(\\'to_a\\', \\'to_b\\', \\'to_c\\')', 'abc': <function abc at 0x7f9d2d4796a8>, '_i4': \"abc(b = 'to_b', c = 'to_c', a = 'to_a')\", '_i5': \"abc('to_c', 'to_a', 'to_b')\", '_i6': 'def abc_keyword_only(*,a,b,c):\\n    for i in (\\'a\\',\\'b\\',\\'c\\'):\\n        print(i,\"got\",eval(i))\\n\\n#abc_keyword_only(\\'to_a\\', \\'to_b\\', \\'to_c\\') # error\\nabc_keyword_only(b = \\'to_b\\', c = \\'to_c\\', a = \\'to_a\\')', 'abc_keyword_only': <function abc_keyword_only at 0x7f9d2d479d08>, '_i7': \"def abc_with_default(a='default_a',\\n                     b='default_b',\\n                     c='default_c'):\\n    abc(a,b,c)\\n    \\nabc_with_default(b = 'to_b')\", 'abc_with_default': <function abc_with_default at 0x7f9d2d479730>, '_i8': \"def foo():\\n    '''\\n    string documenting foo(). \\n    accessible via help(foo)\\n    '''\\n    pass\\n\\nhelp(foo)\", 'foo': <function foo at 0x7f9d2d479c80>, '_i9': 'def foo():\\n    # you cannot have an empty function', '_i10': '# you cannot have an empty function\\ndef foo():', '_i11': \"def complicated_function(text:str, max_len:'int>0'=80) -> str:\\n    '''documentation for complicated_function'''\\n    pass\", 'complicated_function': <function complicated_function at 0x7f9d2d479400>, '_i12': 'help(complicated_function)', '_i13': \"for i in dir(complicated_function):\\n    print(i,'is',eval('complicated_function.'+i))\", 'i': '__globals__'}\n",
      "__gt__ is <method-wrapper '__gt__' of function object at 0x7f9d2d479400>\n",
      "__hash__ is <method-wrapper '__hash__' of function object at 0x7f9d2d479400>\n",
      "__init__ is <method-wrapper '__init__' of function object at 0x7f9d2d479400>\n",
      "__init_subclass__ is <built-in method __init_subclass__ of type object at 0x9c85c0>\n",
      "__kwdefaults__ is None\n",
      "__le__ is <method-wrapper '__le__' of function object at 0x7f9d2d479400>\n",
      "__lt__ is <method-wrapper '__lt__' of function object at 0x7f9d2d479400>\n",
      "__module__ is __main__\n",
      "__name__ is complicated_function\n",
      "__ne__ is <method-wrapper '__ne__' of function object at 0x7f9d2d479400>\n",
      "__new__ is <built-in method __new__ of type object at 0x9c85c0>\n",
      "__qualname__ is complicated_function\n",
      "__reduce__ is <built-in method __reduce__ of function object at 0x7f9d2d479400>\n",
      "__reduce_ex__ is <built-in method __reduce_ex__ of function object at 0x7f9d2d479400>\n",
      "__repr__ is <method-wrapper '__repr__' of function object at 0x7f9d2d479400>\n",
      "__setattr__ is <method-wrapper '__setattr__' of function object at 0x7f9d2d479400>\n",
      "__sizeof__ is <built-in method __sizeof__ of function object at 0x7f9d2d479400>\n",
      "__str__ is <method-wrapper '__str__' of function object at 0x7f9d2d479400>\n",
      "__subclasshook__ is <built-in method __subclasshook__ of type object at 0x9c85c0>\n"
     ]
    }
   ],
   "source": [
    "for i in dir(complicated_function):\n",
    "    print(i,'is',eval('complicated_function.'+i))"
   ]
  }
 ],
 "metadata": {
  "kernelspec": {
   "display_name": "Python 3",
   "language": "python",
   "name": "python3"
  },
  "language_info": {
   "codemirror_mode": {
    "name": "ipython",
    "version": 3
   },
   "file_extension": ".py",
   "mimetype": "text/x-python",
   "name": "python",
   "nbconvert_exporter": "python",
   "pygments_lexer": "ipython3",
   "version": "3.6.9"
  }
 },
 "nbformat": 4,
 "nbformat_minor": 2
}
