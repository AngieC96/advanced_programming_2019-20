{
 "cells": [
  {
   "cell_type": "markdown",
   "metadata": {},
   "source": [
    "### Class\n",
    "- `class`\n",
    "- `self` (even though you can use whatever) → like **this** in c++"
   ]
  },
  {
   "cell_type": "code",
   "execution_count": 1,
   "metadata": {},
   "outputs": [
    {
     "name": "stdout",
     "output_type": "stream",
     "text": [
      "1 2\n"
     ]
    }
   ],
   "source": [
    "class Point():\n",
    "    def __init__(self, x, y):\n",
    "        self.x = x # initialized inside the constructor!\n",
    "        self.y = y\n",
    "        \n",
    "    def method_with_no_arg(self): # if you remove self --> error → you have to put it!\n",
    "        print(\"no args!\")\n",
    "    \n",
    "    def update(self, x, y): # do I really need this?\n",
    "        self.x = x # x = x/a no problem, BUT you're NOT changing you're variable! You don't move the sticky note!\n",
    "        self.y = y # y = y/b\n",
    "    \n",
    "    def print(self): # is this pythonic?\n",
    "        print(self.x, self.y)\n",
    "        \n",
    "    def equal(self, other): # is this pythonic?\n",
    "        return (self.x, self.y) == (other.x, other.y)\n",
    "\n",
    "p = Point(1,2)\n",
    "print(p.x,p.y) # self is automatically added!"
   ]
  },
  {
   "cell_type": "code",
   "execution_count": 2,
   "metadata": {},
   "outputs": [
    {
     "name": "stdout",
     "output_type": "stream",
     "text": [
      "7 8\n",
      "0 0\n"
     ]
    }
   ],
   "source": [
    "p.update(7,8) # in Python everything is gloabal, ALWAYS!\n",
    "p.print()\n",
    "\n",
    "p.x, p.y = 0,0\n",
    "p.print()"
   ]
  },
  {
   "cell_type": "code",
   "execution_count": 3,
   "metadata": {},
   "outputs": [
    {
     "name": "stdout",
     "output_type": "stream",
     "text": [
      "no args!\n"
     ]
    }
   ],
   "source": [
    "p.method_with_no_arg()"
   ]
  },
  {
   "cell_type": "code",
   "execution_count": 4,
   "metadata": {},
   "outputs": [
    {
     "data": {
      "text/plain": [
       "False"
      ]
     },
     "execution_count": 4,
     "metadata": {},
     "output_type": "execute_result"
    }
   ],
   "source": [
    "p2 = Point(1,0)\n",
    "p.equal(p2)"
   ]
  },
  {
   "cell_type": "markdown",
   "metadata": {},
   "source": [
    "### Better"
   ]
  },
  {
   "cell_type": "markdown",
   "metadata": {},
   "source": [
    "Pythonic way:"
   ]
  },
  {
   "cell_type": "code",
   "execution_count": 5,
   "metadata": {},
   "outputs": [
    {
     "name": "stdout",
     "output_type": "stream",
     "text": [
      "Point: 3, 4\n"
     ]
    }
   ],
   "source": [
    "class Point():\n",
    "    '''Documention of class Point'''\n",
    "    def __init__(self, x,y):\n",
    "        self.x = x\n",
    "        self.y = y\n",
    "            \n",
    "    def __str__(self):\n",
    "        #return str((self.x,self.y))\n",
    "        return 'Point: {0}, {1}'.format(self.x, self.y) # 'Point: {0}, {1}' is a string so I can invoke the member function format that allows you to format strings\n",
    "    \n",
    "    def __eq__(self, other):\n",
    "        #return self.x == other.x and self.y == other.y\n",
    "        return (self.x,self.y) == (other.x, other.y) # I'm exploiting the equality operator of tuples\n",
    "    \n",
    "    def __abs__(self):\n",
    "        '''return absolute value'''\n",
    "        import math\n",
    "        return math.hypot(self.x,self.y)\n",
    "        \n",
    "p = Point(3,4)\n",
    "print(p)"
   ]
  },
  {
   "cell_type": "code",
   "execution_count": 7,
   "metadata": {},
   "outputs": [
    {
     "data": {
      "text/plain": [
       "False"
      ]
     },
     "execution_count": 7,
     "metadata": {},
     "output_type": "execute_result"
    }
   ],
   "source": [
    "p2 = Point(4,5)\n",
    "p == p2"
   ]
  },
  {
   "cell_type": "code",
   "execution_count": 8,
   "metadata": {},
   "outputs": [
    {
     "data": {
      "text/plain": [
       "True"
      ]
     },
     "execution_count": 8,
     "metadata": {},
     "output_type": "execute_result"
    }
   ],
   "source": [
    "p2.x, p2.y = 3, 4 # tuple first packed and then unpacked in the two memebers\n",
    "p == p2"
   ]
  },
  {
   "cell_type": "code",
   "execution_count": 9,
   "metadata": {},
   "outputs": [
    {
     "data": {
      "text/plain": [
       "5.0"
      ]
     },
     "execution_count": 9,
     "metadata": {},
     "output_type": "execute_result"
    }
   ],
   "source": [
    "abs(p)"
   ]
  },
  {
   "cell_type": "code",
   "execution_count": 10,
   "metadata": {},
   "outputs": [
    {
     "name": "stdout",
     "output_type": "stream",
     "text": [
      "Help on Point in module __main__ object:\n",
      "\n",
      "class Point(builtins.object)\n",
      " |  Documention of class Point\n",
      " |  \n",
      " |  Methods defined here:\n",
      " |  \n",
      " |  __abs__(self)\n",
      " |      return absolute value\n",
      " |  \n",
      " |  __eq__(self, other)\n",
      " |      Return self==value.\n",
      " |  \n",
      " |  __init__(self, x, y)\n",
      " |      Initialize self.  See help(type(self)) for accurate signature.\n",
      " |  \n",
      " |  __str__(self)\n",
      " |      Return str(self).\n",
      " |  \n",
      " |  ----------------------------------------------------------------------\n",
      " |  Data descriptors defined here:\n",
      " |  \n",
      " |  __dict__\n",
      " |      dictionary for instance variables (if defined)\n",
      " |  \n",
      " |  __weakref__\n",
      " |      list of weak references to the object (if defined)\n",
      " |  \n",
      " |  ----------------------------------------------------------------------\n",
      " |  Data and other attributes defined here:\n",
      " |  \n",
      " |  __hash__ = None\n",
      "\n"
     ]
    }
   ],
   "source": [
    "help(p)"
   ]
  }
 ],
 "metadata": {
  "kernelspec": {
   "display_name": "Python 3",
   "language": "python",
   "name": "python3"
  },
  "language_info": {
   "codemirror_mode": {
    "name": "ipython",
    "version": 3
   },
   "file_extension": ".py",
   "mimetype": "text/x-python",
   "name": "python",
   "nbconvert_exporter": "python",
   "pygments_lexer": "ipython3",
   "version": "3.6.9"
  }
 },
 "nbformat": 4,
 "nbformat_minor": 2
}
