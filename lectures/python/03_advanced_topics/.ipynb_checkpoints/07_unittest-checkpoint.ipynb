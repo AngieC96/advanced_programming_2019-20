{
 "cells": [
  {
   "cell_type": "markdown",
   "metadata": {},
   "source": [
    "##  Unit-testing\n",
    "- `unittest`\n",
    "- `if __name__ == '__main__':`\n",
    "- `__all__`\n",
    "- RTFM https://docs.python.org/3/library/unittest.html"
   ]
  },
  {
   "cell_type": "markdown",
   "metadata": {},
   "source": [
    " - take a look at file `my_module.py`\n",
    " - `python3 my_module.py`\n",
    " - `pyhton3 my_module.py -v`\n",
    " \n",
    " OR\n",
    " you can do\\\n",
    " `import mymodule`\\\n",
    " from somewhere"
   ]
  },
  {
   "cell_type": "markdown",
   "metadata": {},
   "source": [
    "How to do testing in Python!!! Python as a unit test module inside the standard library"
   ]
  }
 ],
 "metadata": {
  "kernelspec": {
   "display_name": "Python 3",
   "language": "python",
   "name": "python3"
  },
  "language_info": {
   "codemirror_mode": {
    "name": "ipython",
    "version": 3
   },
   "file_extension": ".py",
   "mimetype": "text/x-python",
   "name": "python",
   "nbconvert_exporter": "python",
   "pygments_lexer": "ipython3",
   "version": "3.6.9"
  }
 },
 "nbformat": 4,
 "nbformat_minor": 2
}
