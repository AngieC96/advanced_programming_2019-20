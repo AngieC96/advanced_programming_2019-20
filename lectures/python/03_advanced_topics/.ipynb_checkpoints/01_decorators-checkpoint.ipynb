{
 "cells": [
  {
   "cell_type": "markdown",
   "metadata": {},
   "source": [
    "##  Decorators"
   ]
  },
  {
   "cell_type": "markdown",
   "metadata": {},
   "source": [
    "They take as input another function, expanding the functions of that function"
   ]
  },
  {
   "cell_type": "code",
   "execution_count": 1,
   "metadata": {},
   "outputs": [
    {
     "name": "stdout",
     "output_type": "stream",
     "text": [
      "apply decorate1\n",
      "hello, world!\n"
     ]
    }
   ],
   "source": [
    "def decorate1(func):\n",
    "    def inner():\n",
    "        print(\"apply decorate1\")\n",
    "        func()\n",
    "    return inner\n",
    "\n",
    "@decorate1\n",
    "def hello():\n",
    "    print(\"hello, world!\")\n",
    "        \n",
    "hello()"
   ]
  },
  {
   "cell_type": "markdown",
   "metadata": {},
   "source": [
    "How does it work?"
   ]
  },
  {
   "cell_type": "code",
   "execution_count": 2,
   "metadata": {},
   "outputs": [
    {
     "name": "stdout",
     "output_type": "stream",
     "text": [
      "apply decorate1\n",
      "hello, world!\n"
     ]
    }
   ],
   "source": [
    "%reset -sf \n",
    "def decorate1(func):\n",
    "    def inner():\n",
    "        print(\"apply decorate1\")\n",
    "        func()\n",
    "    return inner\n",
    "\n",
    "def hello():\n",
    "    print(\"hello, world!\")\n",
    "\n",
    "hello = decorate1(hello)\n",
    "hello()"
   ]
  },
  {
   "cell_type": "markdown",
   "metadata": {},
   "source": [
    "This is how it works! A decorator can be implemented as a function that takes in input a function (the function to decoarte). It has an inner function that takes the same arguments as the function to decorate. The function `func()` is NOT a local varible for the function!\n",
    "\n",
    "in python functions are first class objects, or simply objects\n",
    "\n",
    "hello = decorate1(hello) → we call decorate with hello as argument\n",
    "\n",
    "The difference with the previous chunck is syntactic sugar (a different way to write the same instruction): `@decoarte1` writes the line `hello = decorate1(hello)`\n",
    "\n",
    "Remember; the variable name of a function is just a sticky note!"
   ]
  },
  {
   "cell_type": "code",
   "execution_count": 3,
   "metadata": {},
   "outputs": [
    {
     "name": "stdout",
     "output_type": "stream",
     "text": [
      "apply decorate1\n",
      "apply decorate2\n",
      "hello, world!\n"
     ]
    }
   ],
   "source": [
    "def decorate2(func):\n",
    "    def inner():\n",
    "        print(\"apply decorate2\")\n",
    "        func()\n",
    "    return inner\n",
    "\n",
    "@decorate1\n",
    "@decorate2\n",
    "def hello12():\n",
    "    print(\"hello, world!\")\n",
    "hello12() # same as hello12 = decorate1(decorate2(hello12))"
   ]
  },
  {
   "cell_type": "markdown",
   "metadata": {},
   "source": [
    "On multiple decorators, the output depends on the order you apply the decorators!"
   ]
  },
  {
   "cell_type": "code",
   "execution_count": 4,
   "metadata": {},
   "outputs": [
    {
     "name": "stdout",
     "output_type": "stream",
     "text": [
      "apply decorate2\n",
      "apply decorate1\n",
      "hello, world!\n"
     ]
    }
   ],
   "source": [
    "@decorate2\n",
    "@decorate1\n",
    "def hello21():\n",
    "    print(\"hello, world!\") \n",
    "hello21() # same as hello21 = decorate2(decorate1(hello21))"
   ]
  },
  {
   "cell_type": "markdown",
   "metadata": {},
   "source": [
    "###  How to pass arguments to the inner function"
   ]
  },
  {
   "cell_type": "code",
   "execution_count": 6,
   "metadata": {},
   "outputs": [
    {
     "name": "stdout",
     "output_type": "stream",
     "text": [
      "wait(0.3): [0.30038161 s]\n",
      "factorial(1): [0.00000164 s]\n",
      "factorial(2): [0.00018712 s]\n",
      "factorial(3): [0.00029623 s]\n",
      "factorial(4): [0.00038710 s]\n",
      "factorial(5): [0.00048457 s]\n",
      "factorial(6): [0.00059685 s]\n",
      "factorial(7): [0.00070130 s]\n",
      "factorial(8): [0.00080126 s]\n",
      "factorial(9): [0.00089932 s]\n",
      "factorial(10): [0.00100003 s]\n",
      "sum(4,5): [0.00000283 s]\n",
      "dummy(pos,second,a=a, b=b): [0.00000455 s]\n"
     ]
    }
   ],
   "source": [
    "#adapted from Fluent Python\n",
    "import functools\n",
    "def args_to_string(*args,**kw):\n",
    "    arg_str = ()\n",
    "    if args:\n",
    "        arg_str += (','.join(str(arg) for arg in args)),\n",
    "    if kw:\n",
    "        arg_str += (', '.join(('{0}={1}'.format(k,v) for k,v in kw.items()))),\n",
    "    return ','.join(a for a in arg_str)\n",
    "\n",
    "import time\n",
    "def time_this(func):\n",
    "    def decorated(*args,**kw): # *args (args is a tuple) takes any number of positional arguments, **kw takes any number of keyword argument\n",
    "        # f(a,b,c), f(eps=c, n=a,out=b), f(a, eps=c, out=b)(REMEMBER: positional arguments must be in front of keyword arguments) → def f(n, out,eps): the names of the variables that I decided when I wrote the function can be used as keyword arguments → USE MEANINGFUL NAMES!\n",
    "        t0 = time.perf_counter()\n",
    "        result = func(*args,**kw) # if we omit the * we pass two arguments: a touple and a dictionary, with the * we pass the arguments!\n",
    "        # we store the result of the function → IMPORTANT!\n",
    "        t1 = time.perf_counter()\n",
    "        name = func.__name__\n",
    "        arg_str = args_to_string(*args,**kw)\n",
    "        #print('{0}({1}): [{2}]'.format(name, arg_str,t1-t0))\n",
    "        #print('{}({}): [{}]'.format(name, arg_str,t1-t0))\n",
    "        # formatting the string: as in c it repalces the %s with the variables in the touple after the % (%0.8f → 8 digits)\n",
    "        print('%s(%s): [%0.8f s]' % (name, arg_str, t1-t0)) # we write the function name, how it was invoked (wit which args) and how long did it takes\n",
    "        return result\n",
    "    return decorated\n",
    "\n",
    "@time_this\n",
    "def wait(seconds): # simply sleeps for tot seconds\n",
    "    time.sleep(seconds)\n",
    "\n",
    "@functools.lru_cache() # <-- note () # parametrized decorators → If you comment this function .....\n",
    "# if you see the parenthesis it is a parametrized decorator!\n",
    "@time_this\n",
    "def factorial(n): # function that calculates the factorial\n",
    "    return 1 if n < 2 else n*factorial(n-1)\n",
    "\n",
    "@time_this\n",
    "def sum(a,b):\n",
    "    return a+b\n",
    "\n",
    "@time_this\n",
    "def dummy(*args, **kw): # takes all the arguments\n",
    "    a = args\n",
    "    b = kw\n",
    "\n",
    "wait(0.3)\n",
    "factorial(10)\n",
    "sum(4,5)\n",
    "dummy('pos', 'second', a='a', b='b')"
   ]
  },
  {
   "cell_type": "markdown",
   "metadata": {},
   "source": [
    "Result with the line `#@functools.lru_cache()` commented:\n",
    "\n",
    "`wait(0.3): [0.30042744 s]\n",
    "factorial(1): [0.00000180 s]\n",
    "factorial(2): [0.00031911 s]\n",
    "factorial(3): [0.00057442 s]\n",
    "factorial(4): [0.00076952 s]\n",
    "factorial(5): [0.00091264 s]\n",
    "factorial(6): [0.00105118 s]\n",
    "factorial(7): [0.00436050 s]\n",
    "factorial(8): [0.00451952 s]\n",
    "factorial(9): [0.00466087 s]\n",
    "factorial(10): [0.00480329 s]\n",
    "sum(4,5): [0.00000257 s]\n",
    "dummy(pos,second,a=a, b=b): [0.00000403 s]`\n",
    "\n",
    "Result with the line uncommented\n",
    "\n",
    "`wait(0.3): [0.30038161 s]\n",
    "factorial(1): [0.00000164 s]\n",
    "factorial(2): [0.00018712 s]\n",
    "factorial(3): [0.00029623 s]\n",
    "factorial(4): [0.00038710 s]\n",
    "factorial(5): [0.00048457 s]\n",
    "factorial(6): [0.00059685 s]\n",
    "factorial(7): [0.00070130 s]\n",
    "factorial(8): [0.00080126 s]\n",
    "factorial(9): [0.00089932 s]\n",
    "factorial(10): [0.00100003 s]\n",
    "sum(4,5): [0.00000283 s]\n",
    "dummy(pos,second,a=a, b=b): [0.00000455 s]`\n",
    "\n"
   ]
  },
  {
   "cell_type": "code",
   "execution_count": 7,
   "metadata": {},
   "outputs": [
    {
     "data": {
      "text/plain": [
       "3628800"
      ]
     },
     "execution_count": 7,
     "metadata": {},
     "output_type": "execute_result"
    }
   ],
   "source": [
    "factorial(10)"
   ]
  },
  {
   "cell_type": "markdown",
   "metadata": {},
   "source": [
    "Now the result is:\\\n",
    "`3628800`\n",
    "\n",
    "Why we didn't get all the calls?\\\n",
    "@functools.lru_cache() stores all the values you already calculated in order to save time! It store all the values in order to not recalculate them!\\\n",
    "We invoked the same function with the same argument, so it just recalled the result from its memory!\n",
    "\n",
    "`@functools.lru_cache(n)` → $n =$ number of combination of parameter it has to remember\\\n",
    "$n=1$: just remembers the last invocation of the function (if we call first factorial(10) then factorial (11) then factorial(10) the has to do the whole tree again)"
   ]
  },
  {
   "cell_type": "code",
   "execution_count": 8,
   "metadata": {},
   "outputs": [
    {
     "name": "stdout",
     "output_type": "stream",
     "text": [
      "factorial(11): [0.00000356 s]\n"
     ]
    },
    {
     "data": {
      "text/plain": [
       "39916800"
      ]
     },
     "execution_count": 8,
     "metadata": {},
     "output_type": "execute_result"
    }
   ],
   "source": [
    "factorial(11)"
   ]
  },
  {
   "cell_type": "markdown",
   "metadata": {},
   "source": [
    "He calls `factorial(10)` and then he uses what the stored!"
   ]
  },
  {
   "cell_type": "code",
   "execution_count": 9,
   "metadata": {},
   "outputs": [
    {
     "data": {
      "text/plain": [
       "3628800"
      ]
     },
     "execution_count": 9,
     "metadata": {},
     "output_type": "execute_result"
    }
   ],
   "source": [
    "factorial(10)"
   ]
  },
  {
   "cell_type": "markdown",
   "metadata": {},
   "source": [
    "How can we do if sometime we just want the result and not all the timing?\n",
    "\n",
    "The behaviour of the decorator can be changes accordingly to the paramteres!"
   ]
  },
  {
   "cell_type": "code",
   "execution_count": 10,
   "metadata": {},
   "outputs": [
    {
     "name": "stdout",
     "output_type": "stream",
     "text": [
      "going to sleep for 0.4 seconds\n",
      "woke up!\n",
      "wait(0.4): [0.40080290 s]\n"
     ]
    }
   ],
   "source": [
    "import time\n",
    "def parametrized_time_this(check=True):\n",
    "    def decorator(func):\n",
    "        if not check:\n",
    "            return func\n",
    "        def decorated(*args,**kw):\n",
    "            t0 = time.perf_counter()\n",
    "            result = func(*args,**kw)\n",
    "            t1 = time.perf_counter()\n",
    "            name = func.__name__\n",
    "            arg_str = args_to_string(*args,**kw)\n",
    "            print('%s(%s): [%0.8f s]' % (name, arg_str, t1-t0))\n",
    "            return result\n",
    "        return decorated\n",
    "    return decorator # <-- returns the actual decorator\n",
    "    \n",
    "@parametrized_time_this(True)\n",
    "def wait(seconds):\n",
    "    print('going to sleep for', seconds,'seconds')\n",
    "    time.sleep(seconds)\n",
    "    print('woke up!')\n",
    "\n",
    "wait(0.4)"
   ]
  },
  {
   "cell_type": "code",
   "execution_count": 11,
   "metadata": {},
   "outputs": [
    {
     "name": "stdout",
     "output_type": "stream",
     "text": [
      "going to sleep for 0.4 seconds\n",
      "woke up!\n"
     ]
    }
   ],
   "source": [
    "@parametrized_time_this(False)\n",
    "def wait(seconds):\n",
    "    print('going to sleep for', seconds,'seconds')\n",
    "    time.sleep(seconds)\n",
    "    print('woke up!')\n",
    "\n",
    "wait(0.4)"
   ]
  },
  {
   "cell_type": "code",
   "execution_count": 12,
   "metadata": {},
   "outputs": [
    {
     "name": "stdout",
     "output_type": "stream",
     "text": [
      "going to sleep for 0.4 seconds\n",
      "woke up!\n",
      "wait(0.4): [0.40124486 s]\n"
     ]
    }
   ],
   "source": [
    "@parametrized_time_this() # he uses the default value: True!\n",
    "def wait(seconds):\n",
    "    print('going to sleep for', seconds,'seconds')\n",
    "    time.sleep(seconds)\n",
    "    print('woke up!')\n",
    "\n",
    "wait(0.4)"
   ]
  },
  {
   "cell_type": "markdown",
   "metadata": {},
   "source": [
    "### Decorators as function objects"
   ]
  },
  {
   "cell_type": "code",
   "execution_count": 13,
   "metadata": {},
   "outputs": [
    {
     "name": "stdout",
     "output_type": "stream",
     "text": [
      "going to sleep for 0.4 seconds\n",
      "woke up!\n",
      "wait(0.4): [0.40095376 s]\n"
     ]
    }
   ],
   "source": [
    "import time\n",
    "class TimeThis():\n",
    "    def __init__(self, func):           # <-- the constructor takes a function\n",
    "        self._func = func               # <-- I have to remmeber it myself!\n",
    "\n",
    "    def __call__(self, *args, **kw):    # <-- I call the default method! __call__()\n",
    "        t0 = time.perf_counter()\n",
    "        result = self._func(*args,**kw) # <--\n",
    "        t1 = time.perf_counter()\n",
    "        name = self._func.__name__      # <--\n",
    "        arg_str = args_to_string(*args,**kw)\n",
    "        print('%s(%s): [%0.8f s]' % (name, arg_str, t1-t0))\n",
    "        return result\n",
    "\n",
    "@TimeThis\n",
    "def wait(seconds):\n",
    "    print('going to sleep for', seconds,'seconds')\n",
    "    time.sleep(seconds)\n",
    "    print('woke up!')\n",
    "\n",
    "wait(0.4)"
   ]
  },
  {
   "cell_type": "code",
   "execution_count": 14,
   "metadata": {},
   "outputs": [
    {
     "name": "stdout",
     "output_type": "stream",
     "text": [
      "going to sleep for 0.4 seconds\n",
      "woke up!\n",
      "wrapper(0.4): [0.40155349 s]\n"
     ]
    }
   ],
   "source": [
    "class ParametrizedTimeThis():\n",
    "    def __init__(self, check=True): # doesn't take the function but the parameter: True/False\n",
    "        self.check = check\n",
    "    def __call__(self,func): # takes the function, defines a wrapper around the function\n",
    "        if self.check:\n",
    "            #return TimeThis(func)\n",
    "            @TimeThis\n",
    "            def wrapper(*args,**kwargs):    # nested definition inside the method → we just need one more nested level!\n",
    "                return func(*args,**kwargs)\n",
    "            return wrapper\n",
    "        return func\n",
    "        \n",
    "@ParametrizedTimeThis(True)\n",
    "def wait(seconds):\n",
    "    print('going to sleep for', seconds,'seconds')\n",
    "    time.sleep(seconds)\n",
    "    print('woke up!')\n",
    "\n",
    "wait(0.4)"
   ]
  },
  {
   "cell_type": "markdown",
   "metadata": {},
   "source": [
    "Maybe it's not the best way, but it's to learn something!\n",
    "\n",
    "`@TimeThis\n",
    "def wait(seconds):\n",
    "    ...`\n",
    "    \n",
    "Python will do:\\\n",
    "` def wait(seconds):\n",
    "       ...\n",
    "  wait = TimeThis(wait)`"
   ]
  },
  {
   "cell_type": "code",
   "execution_count": 15,
   "metadata": {},
   "outputs": [
    {
     "name": "stdout",
     "output_type": "stream",
     "text": [
      "wrapper(0.4): [0.00000220 s]\n"
     ]
    }
   ],
   "source": [
    "PTT = ParametrizedTimeThis(True) # to create an alias → just a sticky note!\n",
    "\n",
    "@PTT\n",
    "def dummy(*args,**kw):\n",
    "    pass\n",
    "\n",
    "dummy(0.4)"
   ]
  },
  {
   "cell_type": "markdown",
   "metadata": {},
   "source": [
    "`@PPT(True)\n",
    "def wait(seconds):\n",
    "    ...`\n",
    "\n",
    "Python does:\\\n",
    "`_x_=PTT(True) # whatever the function returns is stored in a variable! (Python chooses the name)\n",
    "def wait(seconds):\n",
    "    ...\n",
    "wait = _x_(wait)`\n",
    "\n",
    "or, with a step in the middle:\\\n",
    "`_x_=PTT(True)\n",
    "@_x_\n",
    "def wait(seconds):\n",
    "    ...`"
   ]
  }
 ],
 "metadata": {
  "kernelspec": {
   "display_name": "Python 3",
   "language": "python",
   "name": "python3"
  },
  "language_info": {
   "codemirror_mode": {
    "name": "ipython",
    "version": 3
   },
   "file_extension": ".py",
   "mimetype": "text/x-python",
   "name": "python",
   "nbconvert_exporter": "python",
   "pygments_lexer": "ipython3",
   "version": "3.6.9"
  }
 },
 "nbformat": 4,
 "nbformat_minor": 2
}
